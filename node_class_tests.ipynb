{
 "cells": [
  {
   "cell_type": "code",
   "execution_count": 1,
   "metadata": {},
   "outputs": [
    {
     "name": "stderr",
     "output_type": "stream",
     "text": [
      "/home/peppe/miniconda3/envs/my_env/lib/python3.9/site-packages/tqdm/auto.py:22: TqdmWarning: IProgress not found. Please update jupyter and ipywidgets. See https://ipywidgets.readthedocs.io/en/stable/user_install.html\n",
      "  from .autonotebook import tqdm as notebook_tqdm\n"
     ]
    }
   ],
   "source": [
    "import time\n",
    "\n",
    "import torch\n",
    "import torch.nn.functional as F\n",
    "from torch.nn import Linear, Parameter\n",
    "import torch.nn.utils.parametrize as parametrize\n",
    "from torch.optim import Adam\n",
    "from torch.optim.lr_scheduler import ReduceLROnPlateau\n",
    "\n",
    "import torch_geometric\n",
    "from torch_geometric.nn import MessagePassing\n",
    "from torch_geometric.utils import add_self_loops, degree, homophily\n",
    "\n",
    "from torch_geometric.datasets import WebKB, Planetoid\n",
    "\n",
    "device = torch.device('cuda' if torch.cuda.is_available() else 'cpu')"
   ]
  },
  {
   "attachments": {},
   "cell_type": "markdown",
   "metadata": {},
   "source": [
    "## The GCNConv cell explains how to implement a customized MPNN, with MessagePassing class."
   ]
  },
  {
   "cell_type": "code",
   "execution_count": 110,
   "metadata": {},
   "outputs": [],
   "source": [
    "class GCNConv(MessagePassing):\n",
    "    def __init__(self, in_channels, out_channels):\n",
    "        super(GCNConv, self).__init__(aggr='add')  # \"Add\" aggregation.\n",
    "        self.lin = torch.nn.Linear(in_channels, out_channels)\n",
    "\n",
    "    def forward(self, x, edge_index):\n",
    "        # x has shape [N, in_channels]\n",
    "        # edge_index has shape [2, E]\n",
    "\n",
    "        # Step 1: Add self-loops to the adjacency matrix.\n",
    "        edge_index, _ = add_self_loops(edge_index, num_nodes=x.size(0))\n",
    "\n",
    "        # Step 2: Linearly transform node feature matrix.\n",
    "        x = self.lin(x)\n",
    "\n",
    "        # Step 3-5: Start propagating messages.\n",
    "\n",
    "        ''' self.propagate has to take as input at least 'edge_index' and 'x', then we can specify also other arguments,\n",
    "            like ciao. '''\n",
    "\n",
    "        return self.propagate(edge_index, ciao = 'ciao', size = (x.size(0), x.size(0)), x=x)\n",
    "\n",
    "    def message(self, x_j, edge_index, ciao, size):\n",
    "        # x_j has shape [E, out_channels]\n",
    "        # Step 3: Normalize node features.\n",
    "        ''' x_j contains the node features for row '''\n",
    "        row, col = edge_index\n",
    "        deg = degree(row, size[0], dtype=x_j.dtype)\n",
    "        deg_inv_sqrt = deg.pow(-0.5)\n",
    "        deg_inv_sqrt[deg_inv_sqrt == 'inf'] = 0\n",
    "        norm = deg_inv_sqrt[row] * deg_inv_sqrt[col]\n",
    "\n",
    "        print(\"1: \", (norm.view(-1, 1)*x_j).shape)\n",
    "\n",
    "        return norm.view(-1, 1) * x_j\n",
    "\n",
    "    def update(self, aggr_out):\n",
    "        # aggr_out has shape [N, out_channels]\n",
    "        print(\"2: \", aggr_out.shape)\n",
    "        # Step 5: Return new node embeddings.\n",
    "        return aggr_out"
   ]
  },
  {
   "cell_type": "code",
   "execution_count": 111,
   "metadata": {},
   "outputs": [],
   "source": [
    "dataset_texas = WebKB(root='/tmp/Texas', name='Texas')"
   ]
  },
  {
   "cell_type": "code",
   "execution_count": 112,
   "metadata": {},
   "outputs": [],
   "source": [
    "x = dataset_texas.x\n",
    "edges = dataset_texas.edge_index"
   ]
  },
  {
   "cell_type": "code",
   "execution_count": null,
   "metadata": {},
   "outputs": [],
   "source": [
    "test_network = GCNConv(dataset_texas.num_features, dataset_texas.num_classes)\n",
    "t = test_network(x, edges)"
   ]
  },
  {
   "attachments": {},
   "cell_type": "markdown",
   "metadata": {},
   "source": [
    "## Customized implementation for the SAGEConv GNN layer"
   ]
  },
  {
   "cell_type": "code",
   "execution_count": 122,
   "metadata": {},
   "outputs": [],
   "source": [
    "class SAGECv(MessagePassing):\n",
    "    def __init__(self, input_dim, hidden_dim, project = False):\n",
    "        super().__init__(aggr='mean')\n",
    "        self.l1 = torch.nn.Linear(hidden_dim, hidden_dim, bias = False)\n",
    "        self.l2 = torch.nn.Linear(hidden_dim, hidden_dim, bias = False)\n",
    "        self.project = project\n",
    "        if self.project:\n",
    "            self.l3 = torch.nn.Linear(input_dim, hidden_dim, bias = True)\n",
    "\n",
    "    def forward(self, x, edge_index):\n",
    "\n",
    "        if self.project:\n",
    "            x = F.relu(self.l3(x))\n",
    "\n",
    "        return self.propagate(edge_index, x = x)\n",
    "    \n",
    "    def update(self, aggr_out, x):\n",
    "        # aggr_out is always the output after the aggregation, and x are the nodes to update.\n",
    "        aggr_out = self.l1(aggr_out)\n",
    "\n",
    "        out = self.l2(x) + self.l1(aggr_out)\n",
    "\n",
    "        return out\n",
    "        \n"
   ]
  },
  {
   "cell_type": "code",
   "execution_count": 124,
   "metadata": {},
   "outputs": [
    {
     "name": "stdout",
     "output_type": "stream",
     "text": [
      "torch.Size([183, 5])\n",
      "torch.Size([183, 5])\n",
      "torch.Size([183, 5])\n"
     ]
    }
   ],
   "source": [
    "s = SAGECv(dataset_texas.num_features, dataset_texas.num_classes, project = True)\n",
    "\n",
    "t = s(x, edges)"
   ]
  },
  {
   "cell_type": "code",
   "execution_count": null,
   "metadata": {},
   "outputs": [],
   "source": []
  }
 ],
 "metadata": {
  "kernelspec": {
   "display_name": "my_env",
   "language": "python",
   "name": "python3"
  },
  "language_info": {
   "codemirror_mode": {
    "name": "ipython",
    "version": 3
   },
   "file_extension": ".py",
   "mimetype": "text/x-python",
   "name": "python",
   "nbconvert_exporter": "python",
   "pygments_lexer": "ipython3",
   "version": "3.9.15"
  },
  "orig_nbformat": 4
 },
 "nbformat": 4,
 "nbformat_minor": 2
}
