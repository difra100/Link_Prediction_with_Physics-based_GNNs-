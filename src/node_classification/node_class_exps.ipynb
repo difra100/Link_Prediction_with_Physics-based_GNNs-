{
 "cells": [
  {
   "attachments": {},
   "cell_type": "markdown",
   "metadata": {},
   "source": [
    "# Notebook for the experiments\n",
    "In this notebook are contained the following features:\n",
    "* Re-implementation of GRAFF applied to [node classification](https://arxiv.org/abs/2206.10991),\n",
    "\n",
    "The main tools that have been exploited are [PyTorch](https://pytorch.org/) (1.13.0), [PyTorch-Lightning](https://www.pytorchlightning.ai/index.html) (1.5.10), [Pytorch-geometric](https://pytorch-geometric.readthedocs.io/en/latest/install/installation.html) (2.3.0) and [Weights & Biases](https://wandb.ai/)"
   ]
  },
  {
   "attachments": {},
   "cell_type": "markdown",
   "metadata": {},
   "source": [
    "### Requirements to run the notebook"
   ]
  },
  {
   "cell_type": "code",
   "execution_count": 1,
   "metadata": {},
   "outputs": [],
   "source": [
    "# !pip install torch==1.12.1+cu113 torchvision==0.13.1+cu113 torchaudio==0.12.1 --extra-index-url https://download.pytorch.org/whl/cu113\n",
    "# !pip install pytorch-lightning==1.5.10\n",
    "# !pip install pyg_lib torch_scatter torch_sparse torch_cluster torch_spline_conv -f https://data.pyg.org/whl/torch-1.12.0+cu113.html\n",
    "# !pip install torch_geometric\n",
    "# !pip install wandb"
   ]
  },
  {
   "attachments": {},
   "cell_type": "markdown",
   "metadata": {},
   "source": [
    "## Importing the libraries"
   ]
  },
  {
   "cell_type": "code",
   "execution_count": 2,
   "metadata": {},
   "outputs": [
    {
     "name": "stderr",
     "output_type": "stream",
     "text": [
      "/home/peppe/anaconda3/envs/my_env/lib/python3.10/site-packages/tqdm/auto.py:22: TqdmWarning: IProgress not found. Please update jupyter and ipywidgets. See https://ipywidgets.readthedocs.io/en/stable/user_install.html\n",
      "  from .autonotebook import tqdm as notebook_tqdm\n"
     ]
    },
    {
     "name": "stdout",
     "output_type": "stream",
     "text": [
      "Node classification features initialized.....\n"
     ]
    }
   ],
   "source": [
    "######## IMPORT EXTERNAL FILES ###########\n",
    "import torch\n",
    "import torch.nn.functional as F\n",
    "import torch.nn.utils.parametrize as parametrize\n",
    "import torch.nn as nn\n",
    "\n",
    "import wandb\n",
    "\n",
    "import torch_geometric\n",
    "from torch_geometric.nn import MessagePassing\n",
    "from torch_geometric.loader import NeighborLoader\n",
    "from torch_geometric.utils import add_self_loops, degree, homophily\n",
    "from torch_geometric.loader import DataLoader\n",
    "import torch_geometric.transforms as T\n",
    "\n",
    "\n",
    "\n",
    "import pytorch_lightning as pl\n",
    "from pytorch_lightning.callbacks.early_stopping import EarlyStopping\n",
    "from pytorch_lightning.callbacks import Callback\n",
    "from pytorch_lightning.loggers import WandbLogger\n",
    "\n",
    "from torch_geometric.datasets import WebKB, Planetoid, WikipediaNetwork\n",
    "# WebKB: (Texas, Wisconsin, Cornell); Planetoid: (Citeseer, Pubmed, Cora); WikipediaNetwork: (Squirrel, Chameleon)\n",
    "\n",
    "######### IMPORT INTERNAL FILES ###########\n",
    "import sys\n",
    "\n",
    "sys.path.append(\"../../src\")\n",
    "\n",
    "\n",
    "from GRAFF import *\n",
    "from config import *"
   ]
  },
  {
   "attachments": {},
   "cell_type": "markdown",
   "metadata": {},
   "source": [
    "### System configuration"
   ]
  },
  {
   "cell_type": "code",
   "execution_count": 3,
   "metadata": {},
   "outputs": [
    {
     "name": "stderr",
     "output_type": "stream",
     "text": [
      "Failed to detect the name of this notebook, you can set it manually with the WANDB_NOTEBOOK_NAME environment variable to enable code saving.\n",
      "\u001b[34m\u001b[1mwandb\u001b[0m: Currently logged in as: \u001b[33mdifra00\u001b[0m (\u001b[33mdeepl_wizards\u001b[0m). Use \u001b[1m`wandb login --relogin`\u001b[0m to force relogin\n"
     ]
    }
   ],
   "source": [
    "device = 'cuda' if torch.cuda.is_available() else 'cpu'\n",
    "num_gpus = 1 if device == 'cuda' else 0\n",
    "\n",
    "if wb:\n",
    "    wandb.login()"
   ]
  },
  {
   "attachments": {},
   "cell_type": "markdown",
   "metadata": {},
   "source": [
    "## PyTorch Lightning DataModule (Node classification)"
   ]
  },
  {
   "cell_type": "code",
   "execution_count": 4,
   "metadata": {},
   "outputs": [],
   "source": [
    "class DataModuleNC(pl.LightningDataModule):\n",
    "\n",
    "    def __init__(self,  dataset, mode, split, batch_size):\n",
    "\n",
    "        self.mode = mode  # \"hp\" or \"test\"\n",
    "        self.split = split\n",
    "        self.batch_size = batch_size\n",
    "        self.dataset = dataset\n",
    "\n",
    "    def setup(self, stage=None):\n",
    "        if stage == 'fit':\n",
    "            if self.mode == 'hp':\n",
    "                self.train_mask_pred = self.dataset[0].train_mask.bool()[\n",
    "                    :, self.split]\n",
    "                \n",
    "            else:\n",
    "                self.train_mask_pred = self.dataset[0].train_mask.bool(\n",
    "                )[:, self.split] + self.dataset[0].val_mask.bool()[:, self.split]\n",
    "\n",
    "        elif stage == 'test':\n",
    "          \n",
    "            if self.mode == 'hp':\n",
    "                \n",
    "                self.test_mask_pred = self.dataset[0].val_mask.bool()[\n",
    "                    :, self.split]\n",
    "            else:\n",
    "                self.test_mask_pred = self.dataset[0].test_mask.bool()[\n",
    "                    :, self.split]\n",
    "\n",
    "    # In the transductive setting, we have available all the original graph's topology.\n",
    "    def train_dataloader(self, *args, **kwargs):\n",
    "        return DataLoader(self.dataset, batch_size = batch_size, shuffle = False)\n",
    "    def val_dataloader(self, *args, **kwargs):\n",
    "        return DataLoader(self.dataset, batch_size = batch_size, shuffle = False)\n",
    "    "
   ]
  },
  {
   "cell_type": "code",
   "execution_count": 5,
   "metadata": {},
   "outputs": [],
   "source": [
    "mode = 'hp'  # hp: Hyperparameter selection mode\n",
    "dataM = DataModuleNC(dataset, split=0, mode=mode, batch_size=batch_size)\n",
    "dataM.setup(stage='fit')\n",
    "dataM.setup(stage='test') "
   ]
  },
  {
   "attachments": {},
   "cell_type": "markdown",
   "metadata": {},
   "source": [
    "### PyTorch Lightning Callbacks"
   ]
  },
  {
   "cell_type": "code",
   "execution_count": 6,
   "metadata": {},
   "outputs": [],
   "source": [
    "\n",
    "class Get_Metrics(Callback):\n",
    "\n",
    "    def on_train_epoch_end(self, trainer: \"pl.Trainer\", pl_module: \"pl.LightningModule\"):\n",
    "\n",
    "        # Compute the metrics\n",
    "        train_loss = sum(\n",
    "            pl_module.train_prop['loss']) / len(pl_module.train_prop['loss'])\n",
    "        train_acc = sum(\n",
    "            pl_module.train_prop['acc']) / len(pl_module.train_prop['acc'])\n",
    "        test_loss = sum(\n",
    "            pl_module.test_prop['loss']) / len(pl_module.test_prop['loss'])\n",
    "        test_acc = sum(pl_module.test_prop['acc']) / \\\n",
    "            len(pl_module.test_prop['acc'])\n",
    "\n",
    "        # Log the metrics\n",
    "        pl_module.log(name='Loss on train', value=train_loss,\n",
    "                      on_epoch=True, prog_bar=True, logger=True)\n",
    "        pl_module.log(name='Accuracy on train', value=train_acc,\n",
    "                      on_epoch=True, prog_bar=True, logger=True)\n",
    "        pl_module.log(name='Loss on test', value=test_loss,\n",
    "                      on_epoch=True, prog_bar=True, logger=True)\n",
    "        pl_module.log(name='Accuracy on test', value=test_acc,\n",
    "                      on_epoch=True, prog_bar=True, logger=True)\n",
    "\n",
    "        # Re-initialize the metrics\n",
    "        pl_module.train_prop['loss'] = []\n",
    "        pl_module.train_prop['acc'] = []\n",
    "        pl_module.test_prop['loss'] = []\n",
    "        pl_module.test_prop['acc'] = []"
   ]
  },
  {
   "attachments": {},
   "cell_type": "markdown",
   "metadata": {},
   "source": [
    "## PyTorch Lightning Training Module (Node Classification)"
   ]
  },
  {
   "cell_type": "code",
   "execution_count": 7,
   "metadata": {},
   "outputs": [],
   "source": [
    "class TrainingModule(pl.LightningModule):\n",
    "\n",
    "    def __init__(self, model, loss_type, train_mask, test_mask, lr, wd):\n",
    "        super().__init__()\n",
    "        self.model = model.to(device)\n",
    "        self.loss_type = loss_type  # nll or ce\n",
    "        self.lr = lr\n",
    "        self.wd = wd\n",
    "\n",
    "        self.train_prop = {'loss': [], 'acc': []}\n",
    "        self.test_prop = {'loss': [], 'acc': []}\n",
    "        self.test_mask = test_mask.to(device)  # Move test_mask to device\n",
    "        self.train_mask = train_mask.to(device)\n",
    "\n",
    "    def training_step(self, batch, batch_idx):\n",
    "        y = batch.y\n",
    "        \n",
    "        y = y[:batch_size]\n",
    "        # print(\"Y AFTER: \", y.shape)\n",
    "\n",
    "        out = self.model(batch)\n",
    "\n",
    "        out = out[:batch_size]\n",
    "\n",
    "        mask = self.train_mask\n",
    "\n",
    "        if self.loss_type == 'nll':\n",
    "            loss = F.nll_loss(F.log_softmax(out[mask], dim=1), y[mask])\n",
    "        elif self.loss_type == 'ce':\n",
    "            loss = F.cross_entropy(out[mask], y[mask])\n",
    "\n",
    "        acc = evaluate(out, batch, mask)\n",
    "        self.train_prop['loss'].append(loss)\n",
    "        self.train_prop['acc'].append(acc)\n",
    "\n",
    "        return loss\n",
    "\n",
    "    def validation_step(self, batch, batch_idx):\n",
    "\n",
    "        y = batch.y\n",
    "        # print(\"Y BEFORE: (test)\", y.shape)\n",
    "        y = y[:batch_size]\n",
    "        # print(\"Y AFTER: (test)\", y.shape)\n",
    "\n",
    "        mask = self.test_mask\n",
    "\n",
    "        out = self.model(batch)\n",
    "\n",
    "        out = out[:batch_size]\n",
    "        # print(\"OUT_SHAPE: \", out.shape)\n",
    "\n",
    "        # print(\"TEST_MASK: \", mask.shape)\n",
    "\n",
    "        if self.loss_type == 'nll':\n",
    "            loss = F.nll_loss(F.log_softmax(\n",
    "                out[mask], dim=1), y[mask])\n",
    "        elif self.loss_type == 'ce':\n",
    "            loss = F.cross_entropy(out[mask], y[mask])\n",
    "\n",
    "        acc = evaluate(out, batch, mask)\n",
    "        self.test_prop['loss'].append(loss)\n",
    "        self.test_prop['acc'].append(acc)\n",
    "\n",
    "        return loss\n",
    "\n",
    "    def configure_optimizers(self):\n",
    "        self.optimizer = torch.optim.Adam(\n",
    "            self.model.parameters(), lr=self.lr, weight_decay=self.wd)\n",
    "        return self.optimizer\n",
    "\n",
    "\n",
    "def evaluate(out, data, mask=None):\n",
    "    # print(\"OUTPUT IS DIM: \", out.shape)\n",
    "    out = F.log_softmax(out, dim=1)\n",
    "    # print(\"OUTPUT log_softmax shape is: \", out.shape)\n",
    "\n",
    "    pred = out[mask].argmax(1)\n",
    "\n",
    "    acc = pred.eq(data.y[mask]).sum().item() / mask.sum().item(\n",
    "    )\n",
    "\n",
    "    return acc"
   ]
  },
  {
   "cell_type": "code",
   "execution_count": 8,
   "metadata": {},
   "outputs": [],
   "source": [
    "# This mask contains the nodes for which we want to do the inference.\n",
    "test_mask = dataM.test_mask_pred\n",
    "train_mask = dataM.train_mask_pred\n",
    "\n",
    "#### hp enables a grid search on a wide set of hyperparameters.\n",
    "if mode != 'hp':\n",
    "   model = PhysicsGNN_NC(dataset, hidden_dim, num_layers, step = step, device = device)\n",
    "   # model = GRAFFNet(dataset, hidden_dim, self_loops=False, step_size=step)\n",
    "   pl_training_module = TrainingModule(model, loss_type, train_mask, test_mask, lr, wd)\n",
    " \n"
   ]
  },
  {
   "attachments": {},
   "cell_type": "markdown",
   "metadata": {},
   "source": [
    "### Hyperparameters Tuning"
   ]
  },
  {
   "cell_type": "code",
   "execution_count": null,
   "metadata": {},
   "outputs": [],
   "source": [
    "def sweep_train(config=None):\n",
    "    # Initialize a new wandb run\n",
    "    with wandb.init(config=config):\n",
    "        # If called by wandb.agent, as below,\n",
    "        # this config will be set by Sweep Controller\n",
    "        config = wandb.config\n",
    "        model = PhysicsGNN_NC(dataset, config.hidden_dim,\n",
    "                              config.num_layers, step=config.step, device = device)\n",
    "        pl_training_module = TrainingModule(\n",
    "            model, config.loss_type, train_mask, test_mask, config.lr, config.wd)\n",
    "        exp_name = \"Sweep_\" + dataset_name\n",
    "        wandb_logger = WandbLogger(\n",
    "            project=project_name, name=exp_name, config=hyperparameters)\n",
    "        trainer = trainer = pl.Trainer(\n",
    "            max_epochs=epochs,  # maximum number of epochs.\n",
    "            gpus=num_gpus,  # the number of gpus we have at our disposal.\n",
    "            default_root_dir=\"\", callbacks=[Get_Metrics(), EarlyStopping('Loss on test', mode='min', patience=15)],\n",
    "            logger=wandb_logger\n",
    "        )\n",
    "        trainer.fit(model = pl_training_module, datamodule = dataM)\n",
    "\n",
    "if mode == 'hp':\n",
    "\n",
    "    import pprint\n",
    "\n",
    "    pprint.pprint(sweep_config)\n",
    "\n",
    "    sweep_id = wandb.sweep(sweep_config, project=project_name)\n",
    "\n",
    "    wandb.agent(sweep_id, sweep_train, count=1000)\n",
    "\n",
    "    wandb.finish()\n"
   ]
  },
  {
   "cell_type": "code",
   "execution_count": null,
   "metadata": {},
   "outputs": [
    {
     "name": "stderr",
     "output_type": "stream",
     "text": [
      "GPU available: True, used: True\n",
      "TPU available: False, using: 0 TPU cores\n",
      "IPU available: False, using: 0 IPUs\n"
     ]
    }
   ],
   "source": [
    "if wb:\n",
    "    exp_name = \"Node_class_lr: \" + \\\n",
    "        str(hyperparameters['learning rate']) + \\\n",
    "        '_wd: ' + str(hyperparameters['weight decay'])\n",
    "    description = ' initial tests'\n",
    "    exp_name += description\n",
    "    wandb_logger = WandbLogger(\n",
    "        project=project_name, name=exp_name, config=hyperparameters)\n",
    "\n",
    "\n",
    "trainer = trainer = pl.Trainer(\n",
    "    max_epochs=epochs,  # maximum number of epochs.\n",
    "    gpus=num_gpus,  # the number of gpus we have at our disposal.\n",
    "    default_root_dir=\"\", callbacks=[Get_Metrics(), EarlyStopping('Loss on test', mode='min', patience=15)],\n",
    "    logger=wandb_logger if wb else None\n",
    "\n",
    ")"
   ]
  },
  {
   "cell_type": "code",
   "execution_count": 11,
   "metadata": {},
   "outputs": [
    {
     "name": "stderr",
     "output_type": "stream",
     "text": [
      "/home/peppe/anaconda3/envs/my_env/lib/python3.10/site-packages/pytorch_lightning/core/datamodule.py:469: LightningDeprecationWarning: DataModule.setup has already been called, so it will not be called again. In v1.6 this behavior will change to always call DataModule.setup.\n",
      "  rank_zero_deprecation(\n",
      "LOCAL_RANK: 0 - CUDA_VISIBLE_DEVICES: [0]\n",
      "\n",
      "  | Name  | Type          | Params\n",
      "----------------------------------------\n",
      "0 | model | PhysicsGNN_NC | 96.4 K\n",
      "----------------------------------------\n",
      "96.4 K    Trainable params\n",
      "0         Non-trainable params\n",
      "96.4 K    Total params\n",
      "0.386     Total estimated model params size (MB)\n",
      "/home/peppe/anaconda3/envs/my_env/lib/python3.10/site-packages/pytorch_lightning/callbacks/model_checkpoint.py:631: UserWarning: Checkpoint directory /home/peppe/Desktop/Università/Projects/Link_Prediction_with_Physics-based_GNNs-/src/node_classification/Node_class_lr: 0.001_wd: 5e-05 initial tests/version_None/checkpoints exists and is not empty.\n",
      "  rank_zero_warn(f\"Checkpoint directory {dirpath} exists and is not empty.\")\n"
     ]
    },
    {
     "name": "stdout",
     "output_type": "stream",
     "text": [
      "Validation sanity check:   0%|          | 0/1 [00:00<?, ?it/s]"
     ]
    },
    {
     "name": "stderr",
     "output_type": "stream",
     "text": [
      "/home/peppe/anaconda3/envs/my_env/lib/python3.10/site-packages/pytorch_lightning/trainer/data_loading.py:132: UserWarning: The dataloader, val_dataloader 0, does not have many workers which may be a bottleneck. Consider increasing the value of the `num_workers` argument` (try 20 which is the number of cpus on this machine) in the `DataLoader` init to improve performance.\n",
      "  rank_zero_warn(\n"
     ]
    },
    {
     "name": "stdout",
     "output_type": "stream",
     "text": [
      "                                                                      "
     ]
    },
    {
     "name": "stderr",
     "output_type": "stream",
     "text": [
      "/home/peppe/anaconda3/envs/my_env/lib/python3.10/site-packages/pytorch_lightning/trainer/data_loading.py:132: UserWarning: The dataloader, train_dataloader, does not have many workers which may be a bottleneck. Consider increasing the value of the `num_workers` argument` (try 20 which is the number of cpus on this machine) in the `DataLoader` init to improve performance.\n",
      "  rank_zero_warn(\n",
      "/home/peppe/anaconda3/envs/my_env/lib/python3.10/site-packages/pytorch_lightning/trainer/data_loading.py:432: UserWarning: The number of training samples (1) is smaller than the logging interval Trainer(log_every_n_steps=50). Set a lower value for log_every_n_steps if you want to see logs for the training epoch.\n",
      "  rank_zero_warn(\n"
     ]
    },
    {
     "name": "stdout",
     "output_type": "stream",
     "text": [
      "Epoch 0: 100%|██████████| 2/2 [00:00<00:00, 62.74it/s, loss=1.94, Loss on train=1.940, Accuracy on train=0.175, Loss on test=1.930, Accuracy on test=0.240]"
     ]
    },
    {
     "data": {
      "text/html": [
       "wandb version 0.15.3 is available!  To upgrade, please run:\n",
       " $ pip install wandb --upgrade"
      ],
      "text/plain": [
       "<IPython.core.display.HTML object>"
      ]
     },
     "metadata": {},
     "output_type": "display_data"
    },
    {
     "data": {
      "text/html": [
       "Tracking run with wandb version 0.13.7"
      ],
      "text/plain": [
       "<IPython.core.display.HTML object>"
      ]
     },
     "metadata": {},
     "output_type": "display_data"
    },
    {
     "data": {
      "text/html": [
       "Run data is saved locally in <code>/home/peppe/Desktop/Università/Projects/Link_Prediction_with_Physics-based_GNNs-/src/node_classification/wandb/run-20230524_130334-16coc8nd</code>"
      ],
      "text/plain": [
       "<IPython.core.display.HTML object>"
      ]
     },
     "metadata": {},
     "output_type": "display_data"
    },
    {
     "data": {
      "text/html": [
       "Syncing run <strong><a href=\"https://wandb.ai/deepl_wizards/Link%20Prediction%20with%20PBGNN/runs/16coc8nd\" target=\"_blank\">Node_class_lr: 0.001_wd: 5e-05 initial tests</a></strong> to <a href=\"https://wandb.ai/deepl_wizards/Link%20Prediction%20with%20PBGNN\" target=\"_blank\">Weights & Biases</a> (<a href=\"https://wandb.me/run\" target=\"_blank\">docs</a>)<br/>"
      ],
      "text/plain": [
       "<IPython.core.display.HTML object>"
      ]
     },
     "metadata": {},
     "output_type": "display_data"
    },
    {
     "name": "stdout",
     "output_type": "stream",
     "text": [
      "Epoch 126: 100%|██████████| 2/2 [00:00<00:00, 66.14it/s, loss=0.0482, v_num=c8nd, Loss on train=0.0394, Accuracy on train=0.999, Loss on test=0.395, Accuracy on test=0.889] \n"
     ]
    },
    {
     "data": {
      "text/html": [
       "Waiting for W&B process to finish... <strong style=\"color:green\">(success).</strong>"
      ],
      "text/plain": [
       "<IPython.core.display.HTML object>"
      ]
     },
     "metadata": {},
     "output_type": "display_data"
    },
    {
     "data": {
      "text/html": [
       "<style>\n",
       "    table.wandb td:nth-child(1) { padding: 0 10px; text-align: left ; width: auto;} td:nth-child(2) {text-align: left ; width: 100%}\n",
       "    .wandb-row { display: flex; flex-direction: row; flex-wrap: wrap; justify-content: flex-start; width: 100% }\n",
       "    .wandb-col { display: flex; flex-direction: column; flex-basis: 100%; flex: 1; padding: 10px; }\n",
       "    </style>\n",
       "<div class=\"wandb-row\"><div class=\"wandb-col\"><h3>Run history:</h3><br/><table class=\"wandb\"><tr><td>Accuracy on test</td><td>▁▃▃▃▃▄▅▅▆▆▆▇▇▇▇▇▇███████████████████████</td></tr><tr><td>Accuracy on train</td><td>▁▄▄▄▄▄▅▆▆▆▇▇▇▇▇▇▇███████████████████████</td></tr><tr><td>Loss on test</td><td>██▇▇▆▆▆▅▅▄▄▃▃▃▃▂▂▂▂▂▁▁▁▁▁▁▁▁▁▁▁▁▁▁▁▁▁▁▁▁</td></tr><tr><td>Loss on train</td><td>██▇▇▇▆▆▅▅▄▄▄▃▃▃▃▂▂▂▂▂▂▂▁▁▁▁▁▁▁▁▁▁▁▁▁▁▁▁▁</td></tr><tr><td>epoch</td><td>▁▁▁▁▂▂▂▂▂▃▃▃▃▃▃▄▄▄▄▄▅▅▅▅▅▅▆▆▆▆▆▇▇▇▇▇▇███</td></tr><tr><td>trainer/global_step</td><td>▁▁▁▁▂▂▂▂▂▃▃▃▃▃▃▄▄▄▄▄▅▅▅▅▅▅▆▆▆▆▆▇▇▇▇▇▇███</td></tr></table><br/></div><div class=\"wandb-col\"><h3>Run summary:</h3><br/><table class=\"wandb\"><tr><td>Accuracy on test</td><td>0.8893</td></tr><tr><td>Accuracy on train</td><td>0.99861</td></tr><tr><td>Loss on test</td><td>0.39472</td></tr><tr><td>Loss on train</td><td>0.03945</td></tr><tr><td>epoch</td><td>126</td></tr><tr><td>trainer/global_step</td><td>126</td></tr></table><br/></div></div>"
      ],
      "text/plain": [
       "<IPython.core.display.HTML object>"
      ]
     },
     "metadata": {},
     "output_type": "display_data"
    },
    {
     "data": {
      "text/html": [
       "Synced <strong style=\"color:#cdcd00\">Node_class_lr: 0.001_wd: 5e-05 initial tests</strong>: <a href=\"https://wandb.ai/deepl_wizards/Link%20Prediction%20with%20PBGNN/runs/16coc8nd\" target=\"_blank\">https://wandb.ai/deepl_wizards/Link%20Prediction%20with%20PBGNN/runs/16coc8nd</a><br/>Synced 5 W&B file(s), 0 media file(s), 0 artifact file(s) and 0 other file(s)"
      ],
      "text/plain": [
       "<IPython.core.display.HTML object>"
      ]
     },
     "metadata": {},
     "output_type": "display_data"
    },
    {
     "data": {
      "text/html": [
       "Find logs at: <code>./wandb/run-20230524_130334-16coc8nd/logs</code>"
      ],
      "text/plain": [
       "<IPython.core.display.HTML object>"
      ]
     },
     "metadata": {},
     "output_type": "display_data"
    }
   ],
   "source": [
    "trainer.fit(model = pl_training_module, datamodule = dataM)\n",
    "if wb:\n",
    "    wandb.finish()"
   ]
  }
 ],
 "metadata": {
  "kernelspec": {
   "display_name": "my_env",
   "language": "python",
   "name": "python3"
  },
  "language_info": {
   "codemirror_mode": {
    "name": "ipython",
    "version": 3
   },
   "file_extension": ".py",
   "mimetype": "text/x-python",
   "name": "python",
   "nbconvert_exporter": "python",
   "pygments_lexer": "ipython3",
   "version": "3.10.6"
  },
  "orig_nbformat": 4
 },
 "nbformat": 4,
 "nbformat_minor": 2
}
