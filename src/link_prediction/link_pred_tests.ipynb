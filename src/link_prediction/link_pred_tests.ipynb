{
 "cells": [
  {
   "cell_type": "code",
   "execution_count": 1,
   "metadata": {},
   "outputs": [
    {
     "name": "stderr",
     "output_type": "stream",
     "text": [
      "/home/peppe/anaconda3/envs/my_env/lib/python3.10/site-packages/tqdm/auto.py:22: TqdmWarning: IProgress not found. Please update jupyter and ipywidgets. See https://ipywidgets.readthedocs.io/en/stable/user_install.html\n",
      "  from .autonotebook import tqdm as notebook_tqdm\n"
     ]
    },
    {
     "name": "stdout",
     "output_type": "stream",
     "text": [
      "Link prediction features initialized.....\n"
     ]
    }
   ],
   "source": [
    "######## IMPORT EXTERNAL FILES ###########\n",
    "import torch\n",
    "import torch.nn.functional as F\n",
    "import torch.nn.utils.parametrize as parametrize\n",
    "import torch.nn as nn\n",
    "\n",
    "import torch_geometric\n",
    "from torch_geometric.loader import DataLoader\n",
    "from torch_geometric.transforms import RandomLinkSplit\n",
    "from torch_geometric.utils import train_test_split_edges, negative_sampling\n",
    "\n",
    "import pytorch_lightning as pl\n",
    "from pytorch_lightning.callbacks.early_stopping import EarlyStopping\n",
    "from pytorch_lightning.callbacks import Callback\n",
    "from pytorch_lightning.loggers import WandbLogger\n",
    "\n",
    "######### IMPORT INTERNAL FILES ###########\n",
    "import sys\n",
    "sys.path.append(\"../../src\")\n",
    "from GRAFF import *\n",
    "from config import *"
   ]
  },
  {
   "cell_type": "code",
   "execution_count": 2,
   "metadata": {},
   "outputs": [],
   "source": [
    "import random\n",
    "from torch_geometric.utils import to_networkx\n",
    "import networkx as nx\n",
    "import matplotlib.pyplot as plt\n",
    "\n",
    "def convert_to_networkx(graph, n_sample=None):\n",
    "\n",
    "    g = to_networkx(graph, node_attrs=[\"x\"])\n",
    "    y = graph.y.numpy()\n",
    "\n",
    "    if n_sample is not None:\n",
    "        sampled_nodes = random.sample(g.nodes, n_sample)\n",
    "        g = g.subgraph(sampled_nodes)\n",
    "        y = y[sampled_nodes]\n",
    "\n",
    "    return g, y\n",
    "\n",
    "\n",
    "def plot_graph(g, y):\n",
    "\n",
    "    plt.figure(figsize=(9, 7))\n",
    "    nx.draw_spring(g, node_size=30, arrows=False, node_color=y)\n",
    "    plt.show() "
   ]
  },
  {
   "cell_type": "code",
   "execution_count": null,
   "metadata": {},
   "outputs": [],
   "source": [
    "g, y = convert_to_networkx(dataset[0])\n",
    "plot_graph(g, y)"
   ]
  },
  {
   "cell_type": "code",
   "execution_count": null,
   "metadata": {},
   "outputs": [],
   "source": [
    "\n",
    "# final_dataset = train_test_split_edges(dataset[0], val_ratio = 0.1, test_ratio= 0.1)"
   ]
  },
  {
   "cell_type": "code",
   "execution_count": null,
   "metadata": {},
   "outputs": [],
   "source": [
    "# def indices(dataset, split_idx):\n",
    "#     ''' According to the dataset, and the specified splitting (e.g. in Geom-GCN there are 10 splits) \n",
    "#         We identify the indices. \n",
    "\n",
    "#         args:\n",
    "#           - dataset: torch-geometric data type,\n",
    "#           - split_idx: in the Geom-GCN implementations the available splittings are from 0-9    \n",
    "        \n",
    "#         output:\n",
    "#           - (train_indices, val_indices, test_indices):\n",
    "#                  indices that corrensponds to the whole graph. \n",
    "    \n",
    "#     '''\n",
    "\n",
    "#     train_idx = dataset.train_mask[:, split_idx]\n",
    "#     val_idx = dataset.val_mask[:, split_idx]\n",
    "#     test_idx = dataset.test_mask[:, split_idx]\n",
    "\n",
    "#     train_indices = torch.nonzero(train_idx)\n",
    "#     val_indices = torch.nonzero(val_idx)\n",
    "#     test_indices = torch.nonzero(test_idx)\n",
    "\n",
    "#     return train_indices.squeeze(1), val_indices.squeeze(1), test_indices.squeeze(1)\n",
    "\n",
    "\n",
    " \n",
    "\n",
    "# final = train_test_split_edges(dataset[0])\n"
   ]
  },
  {
   "cell_type": "code",
   "execution_count": null,
   "metadata": {},
   "outputs": [],
   "source": [
    "class DataModuleLP(pl.LightningDataModule):\n",
    "\n",
    "    def __init__(self,  train_set, val_set, test_set, neg_edges, mode, batch_size):\n",
    "\n",
    "        self.mode = mode  # \"hp\" or \"test\"\n",
    "        self.batch_size = batch_size\n",
    "        self.train_set, self.val_set, self.test_set = train_set, val_set, test_set\n",
    "        self.neg_edges = neg_edges\n",
    "\n",
    "    def setup(self, stage=None):\n",
    "        if stage == 'fit':\n",
    "            if self.mode == 'test':\n",
    "                # For the test phase, after the hp tuning we unify train and val.\n",
    "                self.train_set.edge_index = torch.concat((self.train_set.edge_index, self.val_set.edge_label_index), dim = -1)\n",
    "\n",
    "            train_mask_edg = 0.7 * self.train_set.edge_index.shape[1] \n",
    "\n",
    "            self.train_set.pos_forward_pass = self.train_set.edge_index[:, :int(train_mask_edg)]\n",
    "\n",
    "            # The remaining (30%) is used for the prediction\n",
    "            self.train_set.pos_masked_edges = self.train_set.edge_index[:, int(train_mask_edg):]\n",
    "            # The same amount used as positive in the prediction is taken from the negatives\n",
    "            self.train_set.neg_edges = negative_edges[:, :self.train_set.pos_masked_edges.shape[1]]\n",
    "\n",
    "\n",
    "        elif stage == 'test':\n",
    "            # During the inference we attempt to predict the whole set as true.\n",
    "            if self.mode == 'hp':\n",
    "                self.val_set.neg_edges = negative_edges[:, self.train_set.pos_masked_edges.shape[1]: self.train_set.pos_masked_edges.shape[1] + \n",
    "                                                                    self.val_set.edge_label_index.shape[1]]\n",
    "            elif self.mode == 'test':\n",
    "                self.test_set.neg_edges = negative_edges[:, self.train_set.pos_masked_edges.shape[1]:self.train_set.pos_masked_edges.shape[1]+\n",
    "                                                            self.test_set.edge_label_index.shape[1]]\n",
    "\n",
    "    def train_dataloader(self, *args, **kwargs):\n",
    "        return DataLoader([self.train_set], batch_size = batch_size, shuffle = False)\n",
    "    def val_dataloader(self, *args, **kwargs):\n",
    "        if self.mode == 'hp':\n",
    "            return DataLoader([self.val_set], batch_size = batch_size, shuffle = False)\n",
    "        elif self.mode == 'test':\n",
    "            return DataLoader([self.test_set], batch_size = batch_size, shuffle = False)\n"
   ]
  },
  {
   "cell_type": "code",
   "execution_count": 6,
   "metadata": {},
   "outputs": [],
   "source": [
    "mode = 'hp'\n",
    "\n",
    "transform = RandomLinkSplit(is_undirected=True if dataset_name != 'Texas' else False)\n",
    "\n",
    "# Edges are divided into three sets\n",
    "train_data, val_data, test_data = transform(dataset[0])\n",
    "\n",
    "# Negative edges are extracted\n",
    "negative_edges = negative_sampling(dataset.edge_index, num_nodes=dataset.x.shape[0])"
   ]
  },
  {
   "cell_type": "code",
   "execution_count": null,
   "metadata": {},
   "outputs": [],
   "source": [
    "save = True\n",
    "\n",
    "if save:\n",
    "    torch.save(\"Texas/\")"
   ]
  },
  {
   "cell_type": "code",
   "execution_count": null,
   "metadata": {},
   "outputs": [],
   "source": [
    "DM = DataModuleLP(train_data.clone(), val_data.clone(), test_data.clone(), negative_edges, mode = 'hp', batch_size = batch_size)\n",
    "DM.setup('fit')\n",
    "DM.setup('test')\n"
   ]
  },
  {
   "cell_type": "code",
   "execution_count": null,
   "metadata": {},
   "outputs": [],
   "source": [
    "for i in DM.train_dataloader():\n",
    "    print(i)\n",
    "for i in DM.val_dataloader():\n",
    "    print(i)"
   ]
  },
  {
   "cell_type": "code",
   "execution_count": null,
   "metadata": {},
   "outputs": [],
   "source": []
  },
  {
   "cell_type": "code",
   "execution_count": null,
   "metadata": {},
   "outputs": [],
   "source": [
    "# How to repeat the experiments? \n",
    "# What are the splittings? If i do my own splittings should i repeat the experiments? \n",
    "# Message passing questions.........."
   ]
  },
  {
   "attachments": {},
   "cell_type": "markdown",
   "metadata": {},
   "source": []
  }
 ],
 "metadata": {
  "kernelspec": {
   "display_name": "my_env",
   "language": "python",
   "name": "python3"
  },
  "language_info": {
   "codemirror_mode": {
    "name": "ipython",
    "version": 3
   },
   "file_extension": ".py",
   "mimetype": "text/x-python",
   "name": "python",
   "nbconvert_exporter": "python",
   "pygments_lexer": "ipython3",
   "version": "3.10.6"
  },
  "orig_nbformat": 4
 },
 "nbformat": 4,
 "nbformat_minor": 2
}
