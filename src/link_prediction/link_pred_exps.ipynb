{
 "cells": [
  {
   "attachments": {},
   "cell_type": "markdown",
   "metadata": {},
   "source": [
    "# Notebook for the experiments\n",
    "In this notebook are contained the following features:\n",
    "* GRAFF + Link prediction,\n",
    "\n",
    "The main tools that have been exploited are [PyTorch](https://pytorch.org/) (1.13.0), [PyTorch-Lightning](https://www.pytorchlightning.ai/index.html) (1.5.10), [Pytorch-geometric](https://pytorch-geometric.readthedocs.io/en/latest/install/installation.html) (2.3.0) and [Weights & Biases](https://wandb.ai/)"
   ]
  },
  {
   "attachments": {},
   "cell_type": "markdown",
   "metadata": {},
   "source": [
    "### Requirements to run the notebook"
   ]
  },
  {
   "cell_type": "code",
   "execution_count": 1,
   "metadata": {},
   "outputs": [],
   "source": [
    "# !pip install torch==1.12.1+cu113 torchvision==0.13.1+cu113 torchaudio==0.12.1 --extra-index-url https://download.pytorch.org/whl/cu113\n",
    "# !pip install pytorch-lightning==1.5.10\n",
    "# !pip install pyg_lib torch_scatter torch_sparse torch_cluster torch_spline_conv -f https://data.pyg.org/whl/torch-1.12.0+cu113.html\n",
    "# !pip install torch_geometric\n",
    "# !pip install wandb\n",
    "# !pip install ogb"
   ]
  },
  {
   "attachments": {},
   "cell_type": "markdown",
   "metadata": {},
   "source": [
    "## Importing the libraries"
   ]
  },
  {
   "cell_type": "code",
   "execution_count": 2,
   "metadata": {},
   "outputs": [
    {
     "name": "stderr",
     "output_type": "stream",
     "text": [
      "/home/peppe/anaconda3/envs/my_env/lib/python3.10/site-packages/tqdm/auto.py:22: TqdmWarning: IProgress not found. Please update jupyter and ipywidgets. See https://ipywidgets.readthedocs.io/en/stable/user_install.html\n",
      "  from .autonotebook import tqdm as notebook_tqdm\n"
     ]
    },
    {
     "name": "stdout",
     "output_type": "stream",
     "text": [
      "Link prediction features initialized.....\n"
     ]
    }
   ],
   "source": [
    "######## IMPORT EXTERNAL FILES ###########\n",
    "import torch\n",
    "import torch.nn.functional as F\n",
    "import torch.nn.utils.parametrize as parametrize\n",
    "import torch.nn as nn\n",
    "\n",
    "import torch_geometric\n",
    "from torch_geometric.loader import DataLoader\n",
    "from torch_geometric.transforms import RandomLinkSplit\n",
    "from torch_geometric.utils import negative_sampling\n",
    "from torch_geometric.nn import GATConv, GCNConv, SAGEConv\n",
    "\n",
    "import pytorch_lightning as pl\n",
    "from pytorch_lightning.callbacks.early_stopping import EarlyStopping\n",
    "from pytorch_lightning.callbacks import Callback\n",
    "from pytorch_lightning.loggers import WandbLogger\n",
    "\n",
    "import wandb\n",
    "######### IMPORT INTERNAL FILES ###########\n",
    "import sys\n",
    "sys.path.append(\"../../src\")\n",
    "from GRAFF import *\n",
    "from config import *"
   ]
  },
  {
   "attachments": {},
   "cell_type": "markdown",
   "metadata": {},
   "source": [
    "### System configuration"
   ]
  },
  {
   "cell_type": "code",
   "execution_count": 3,
   "metadata": {},
   "outputs": [],
   "source": [
    "device = 'cuda' if torch.cuda.is_available() else 'cpu'\n",
    "num_gpus = 1 if device == 'cuda' else 0\n",
    "\n",
    "if wb:\n",
    "    wandb.login()"
   ]
  },
  {
   "attachments": {},
   "cell_type": "markdown",
   "metadata": {},
   "source": [
    "## PyTorch Lightning DataModule (Link Prediction)"
   ]
  },
  {
   "cell_type": "code",
   "execution_count": 4,
   "metadata": {},
   "outputs": [],
   "source": [
    "class DataModuleLP(pl.LightningDataModule):\n",
    "\n",
    "    def __init__(self,  train_set, val_set, test_set, mode, batch_size):\n",
    "\n",
    "        self.mode = mode  # \"hp\" or \"test\"\n",
    "        self.batch_size = batch_size\n",
    "        self.train_set, self.val_set, self.test_set = train_set, val_set, test_set\n",
    "\n",
    "    def setup(self, stage=None):\n",
    "        if stage == 'fit':\n",
    "\n",
    "            # edge_index are the message passing edges,\n",
    "            # edge_label_index are the supervision edges.\n",
    "            if self.train_set.pos_edge_label_index.shape[1] < self.train_set.edge_index.shape[1]:\n",
    "                pos_mask_edge = self.train_set.pos_edge_label_index.shape[1]\n",
    "\n",
    "                self.train_set.edge_index = self.train_set.edge_index[:,\n",
    "                                                                      pos_mask_edge:]\n",
    "            else:\n",
    "                self.train_set.pos_edge_label_index = self.train_set.edge_index[:,\n",
    "                                                                                :self.train_set.edge_index.shape[1] // 2]\n",
    "                # self.train_set.neg_edge_label_index = self.train_set.neg_edge_label_index[\n",
    "                #     :, :self.train_set.edge_index.shape[1] // 2]\n",
    "\n",
    "                self.train_set.edge_index = self.train_set.edge_index[:,\n",
    "                                                                      self.train_set.edge_index.shape[1] // 2:]\n",
    "\n",
    "    def train_dataloader(self, *args, **kwargs):\n",
    "        return DataLoader([self.train_set], batch_size=batch_size, shuffle=False)\n",
    "\n",
    "    def val_dataloader(self, *args, **kwargs):\n",
    "        if self.mode == 'hp':\n",
    "            return DataLoader([self.val_set], batch_size=batch_size, shuffle=False)\n",
    "        elif self.mode == 'test':\n",
    "            return DataLoader([self.test_set], batch_size=batch_size, shuffle=False)\n",
    "    \n",
    "    def test_dataloader(self, *args, **kwargs):\n",
    "        if self.mode == 'hp':\n",
    "            return DataLoader([self.val_set], batch_size=batch_size, shuffle=False)\n",
    "        elif self.mode == 'test':\n",
    "            return DataLoader([self.test_set], batch_size=batch_size, shuffle=False)"
   ]
  },
  {
   "cell_type": "code",
   "execution_count": 5,
   "metadata": {},
   "outputs": [],
   "source": [
    "train_data = torch.load(dataset_name + \"/train_data.pt\")\n",
    "val_data = torch.load(dataset_name + \"/val_data.pt\")\n",
    "test_data = torch.load(dataset_name + \"/test_data.pt\")"
   ]
  },
  {
   "cell_type": "code",
   "execution_count": 6,
   "metadata": {},
   "outputs": [],
   "source": [
    "# print(train_data)\n",
    "# print(val_data)\n",
    "# print(test_data)"
   ]
  },
  {
   "cell_type": "code",
   "execution_count": 7,
   "metadata": {},
   "outputs": [],
   "source": [
    "mode = 'hp'  # hp: Hyperparameter selection mode\n",
    "sweep = False\n",
    "dataM = DataModuleLP(train_data.clone(), val_data.clone(), test_data.clone(), mode = mode, batch_size = batch_size)\n",
    "dataM.setup(stage='fit')\n",
    "dataM.setup(stage='test') \n"
   ]
  },
  {
   "cell_type": "code",
   "execution_count": 8,
   "metadata": {},
   "outputs": [
    {
     "name": "stdout",
     "output_type": "stream",
     "text": [
      "Data(x=[2708, 1433], edge_index=[2, 4224], y=[2708], train_mask=[2708, 10], val_mask=[2708, 10], test_mask=[2708, 10], pos_edge_label=[4224], pos_edge_label_index=[2, 4224], neg_edge_label=[844800], neg_edge_label_index=[2, 844800])\n",
      "Data(x=[2708, 1433], edge_index=[2, 8448], y=[2708], train_mask=[2708, 10], val_mask=[2708, 10], test_mask=[2708, 10], pos_edge_label=[527], pos_edge_label_index=[2, 527], neg_edge_label=[105400], neg_edge_label_index=[2, 105400])\n",
      "Data(x=[2708, 1433], edge_index=[2, 9502], y=[2708], train_mask=[2708, 10], val_mask=[2708, 10], test_mask=[2708, 10], pos_edge_label=[527], pos_edge_label_index=[2, 527], neg_edge_label=[105400], neg_edge_label_index=[2, 105400])\n"
     ]
    }
   ],
   "source": [
    "print(dataM.train_set)\n",
    "print(dataM.val_set)\n",
    "print(dataM.test_set)\n"
   ]
  },
  {
   "attachments": {},
   "cell_type": "markdown",
   "metadata": {},
   "source": [
    "### PyTorch Lightning Callbacks"
   ]
  },
  {
   "cell_type": "code",
   "execution_count": 9,
   "metadata": {},
   "outputs": [],
   "source": [
    "\n",
    "class Get_Metrics(Callback):\n",
    "\n",
    "    def on_train_epoch_end(self, trainer: \"pl.Trainer\", pl_module: \"pl.LightningModule\"):\n",
    "\n",
    "        # Compute the metrics\n",
    "        train_loss = sum(\n",
    "            pl_module.train_prop['loss']) / len(pl_module.train_prop['loss'])\n",
    "        train_acc100 = sum(\n",
    "            pl_module.train_prop['HR@100']) / len(pl_module.train_prop['HR@100'])\n",
    "        # train_acc20 = sum(\n",
    "        #     pl_module.train_prop['HR@20']) / len(pl_module.train_prop['HR@20'])\n",
    "        # train_acc1 = sum(\n",
    "        #     pl_module.train_prop['HR@1']) / len(pl_module.train_prop['HR@1'])\n",
    "        test_loss = sum(\n",
    "            pl_module.test_prop['loss']) / len(pl_module.test_prop['loss'])\n",
    "\n",
    "        test_acc100 = sum(pl_module.test_prop['HR@100']) / \\\n",
    "            len(pl_module.test_prop['HR@100'])\n",
    "        # test_acc20 = sum(pl_module.test_prop['HR@20']) / \\\n",
    "        #     len(pl_module.test_prop['HR@20'])\n",
    "        # test_acc1 = sum(pl_module.test_prop['HR@1']) / \\\n",
    "        #     len(pl_module.test_prop['HR@1'])\n",
    "\n",
    "        # Log the metrics\n",
    "        pl_module.log(name='Loss on train', value=train_loss,\n",
    "                      on_epoch=True, prog_bar=True, logger=True)\n",
    "        pl_module.log(name='Loss on test', value=test_loss,\n",
    "                      on_epoch=True, prog_bar=True, logger=True)\n",
    "\n",
    "        pl_module.log(name='HR@100 on train', value=train_acc100,\n",
    "                      on_epoch=True, prog_bar=True, logger=True)\n",
    "        pl_module.log(name='HR@100 on test', value=test_acc100,\n",
    "                      on_epoch=True, prog_bar=True, logger=True)\n",
    "\n",
    "        # pl_module.log(name='HR@20 on train', value=train_acc20,\n",
    "        #               on_epoch=True, prog_bar=True, logger=True)\n",
    "        # pl_module.log(name='HR@20 on test', value=test_acc20,\n",
    "        #               on_epoch=True, prog_bar=True, logger=True)\n",
    "\n",
    "        # pl_module.log(name='HR@1 on train', value=train_acc1,\n",
    "        #               on_epoch=True, prog_bar=True, logger=True)\n",
    "        # pl_module.log(name='HR@1 on test', value=test_acc1,\n",
    "        #               on_epoch=True, prog_bar=True, logger=True)\n",
    "\n",
    "        # Re-initialize the metrics\n",
    "        pl_module.train_prop['loss'] = []\n",
    "        pl_module.train_prop['HR@100'] = []\n",
    "        pl_module.train_prop['HR@20'] = []\n",
    "        pl_module.train_prop['HR@1'] = []\n",
    "\n",
    "        pl_module.test_prop['loss'] = []\n",
    "        pl_module.test_prop['HR@100'] = []\n",
    "        pl_module.test_prop['HR@20'] = []\n",
    "        pl_module.test_prop['HR@1'] = []"
   ]
  },
  {
   "attachments": {},
   "cell_type": "markdown",
   "metadata": {},
   "source": [
    "## PyTorch Lightning Training Module (Node Classification)"
   ]
  },
  {
   "cell_type": "code",
   "execution_count": 10,
   "metadata": {},
   "outputs": [],
   "source": [
    "class TrainingModule(pl.LightningModule):\n",
    "\n",
    "    def __init__(self, model, predictor, lr, wd):\n",
    "        super().__init__()\n",
    "        self.model = model.to(device)\n",
    "        self.predictor = predictor.to(device)\n",
    "        self.lr = lr\n",
    "        self.wd = wd\n",
    "\n",
    "        self.train_prop = {'loss': [], 'HR@100': [], 'HR@20': [], 'HR@1': []}\n",
    "        self.test_prop = {'loss': [], 'HR@100': [], 'HR@20': [], 'HR@1': []}\n",
    "\n",
    "    def training_step(self, batch, batch_idx):\n",
    "\n",
    "        out = self.model(batch)\n",
    "\n",
    "        pos_edge = batch.pos_edge_label_index\n",
    "\n",
    "        pos_pred = self.predictor(\n",
    "            out[pos_edge[0]], out[pos_edge[1]], training=True)\n",
    "\n",
    "        neg_edge = batch.neg_edge_label_index\n",
    "\n",
    "        neg_pred = self.predictor(\n",
    "            out[neg_edge[0]], out[neg_edge[1]], training=True)\n",
    "\n",
    "        loss = -torch.log(pos_pred + 1e-15).mean() - \\\n",
    "            torch.log(1 - neg_pred[:pos_pred.shape[0]] + 1e-15).mean()\n",
    "\n",
    "        acc100 = evaluate(\n",
    "            pos_pred, neg_pred[:pos_pred.shape[0]], k = 100) #: 2*pos_pred.shape[0]+1000], k=100)\n",
    "        # acc20 = evaluate(pos_pred, neg_pred, k = 20)\n",
    "        # acc1 = evaluate(pos_pred, neg_pred, k = 1)\n",
    "\n",
    "        self.train_prop['loss'].append(loss)\n",
    "        self.train_prop['HR@100'].append(acc100)\n",
    "        # self.train_prop['HR@20'].append(acc20)\n",
    "        # self.train_prop['HR@1'].append(acc1)\n",
    "\n",
    "        return loss\n",
    "\n",
    "    def validation_step(self, batch, batch_idx):\n",
    "\n",
    "        out = self.model(batch)\n",
    "\n",
    "        pos_edge = batch.pos_edge_label_index\n",
    "\n",
    "        # training is for dropout\n",
    "        pos_pred = self.predictor(\n",
    "            out[pos_edge[0]], out[pos_edge[1]], training=False)\n",
    "\n",
    "        neg_edge = batch.neg_edge_label_index\n",
    "\n",
    "        # training is for dropout\n",
    "        neg_pred = self.predictor(\n",
    "            out[neg_edge[0]], out[neg_edge[1]], training=False)\n",
    "\n",
    "        loss = -torch.log(pos_pred + 1e-15).mean() - \\\n",
    "            torch.log(1 - neg_pred[:pos_pred.shape[0]] + 1e-15).mean()\n",
    "\n",
    "        acc100 = evaluate(\n",
    "            pos_pred, neg_pred[pos_pred.shape[0]: 2*pos_pred.shape[0]+1000], k=100)\n",
    "        # acc20 = evaluate(pos_pred, neg_pred, k = 20)\n",
    "        # acc1 = evaluate(pos_pred, neg_pred, k = 1)\n",
    "\n",
    "        self.test_prop['loss'].append(loss)\n",
    "        self.test_prop['HR@100'].append(acc100)\n",
    "        # self.test_prop['HR@20'].append(acc20)\n",
    "        # self.test_prop['HR@1'].append(acc1)\n",
    "\n",
    "        return loss\n",
    "\n",
    "    def testing_step(self, batch, batch_idx, view=False):\n",
    "        sets = {0: ['train', dataM.train_set], 1: [\n",
    "            'validation', dataM.val_set], 2: ['test', dataM.test_set]}\n",
    "        for idx in range(len(sets)):\n",
    "            print(\"THESE ARE THE PREDICTION FOR THE {}: \\n\".format(\n",
    "                sets[idx][0]))\n",
    "            data = sets[idx][1]\n",
    "            out = self.model(data)\n",
    "\n",
    "            preds = self.predictor(\n",
    "                out[data.pos_edge_label_index[0]], out[data.pos_edge_label_index[1]], training=False)\n",
    "            neg_shape = preds.shape[0]\n",
    "            if idx != 0:\n",
    "                preds_neg = self.predictor(out[data.neg_edge_label_index[0][neg_shape: neg_shape*2 + 1000]],\n",
    "                                        out[data.neg_edge_label_index[1][neg_shape: neg_shape*2 + 1000]], training=False)\n",
    "            else:\n",
    "                preds_neg = self.predictor(out[data.neg_edge_label_index[0][:neg_shape]],\n",
    "                                out[data.neg_edge_label_index[1][:neg_shape]], training=False)\n",
    "\n",
    "            print(\"The mean predictions on positives are: \\n\", torch.mean(preds))\n",
    "            print(\"The mean predictions on negatives are: \\n\",\n",
    "                  torch.mean(preds_neg))\n",
    "            print(\"The HR@100 is: \\n\", evaluate(preds, preds_neg, k=100))\n",
    "\n",
    "            if view:\n",
    "                print(\"POS: \\n\", preds)\n",
    "                print(\"NEG: \\n\", preds_neg)\n",
    "\n",
    "    def configure_optimizers(self):\n",
    "        self.optimizer = torch.optim.Adam(\n",
    "            list(self.model.parameters()) + list(self.predictor.parameters()), lr=self.lr, weight_decay=self.wd)\n",
    "        return self.optimizer\n",
    "\n",
    "\n",
    "def evaluate(pos_pred, neg_pred, k=100):\n",
    "    n_indices = pos_pred.shape[0]\n",
    "    hr = 0\n",
    "    # print(neg_pred.shape)\n",
    "    k = min(neg_pred.shape[0]+1, k)\n",
    "\n",
    "    for pos_idx in range(n_indices):\n",
    "        pos = pos_pred[pos_idx].unsqueeze(0)\n",
    "        eps = 0.1\n",
    "        # Checking if the predictions are the same over all the negative distribution\n",
    "        if round(torch.mean(neg_pred).item(), 4)-eps <= round(pos.item(), 4) <= round(torch.mean(neg_pred).item(), 4) + eps and \\\n",
    "            round(torch.min(neg_pred).item(), 4)-eps <= round(pos.item(), 4) <= round(torch.min(neg_pred).item(), 4) + eps and \\\n",
    "                round(torch.max(neg_pred).item(), 4)-eps <= round(pos.item(), 4) <= round(torch.max(neg_pred).item(), 4) + eps:\n",
    "            continue\n",
    "        tot_tensor = torch.cat((neg_pred, pos), dim=0)\n",
    "        # print(\"tot_tensor: \", tot_tensor.shape)\n",
    "\n",
    "        scores_idx = torch.topk(tot_tensor.squeeze(1), k).indices\n",
    "        # print(\"SCORES: \", scores_idx)\n",
    "\n",
    "        # Check if the positive is in the top100. Positive is marked by the neg_pred.shape[0]\n",
    "        if neg_pred.shape[0] in scores_idx:\n",
    "            # print(\"POS: \", round(pos.item(), 4))\n",
    "            # print(\"MEAN: \", round(torch.mean(neg_pred).item(), 4))\n",
    "            # print(\"MIN: \", round(torch.min(neg_pred).item(), 4))\n",
    "            # print(\"MAX: \", round(torch.max(neg_pred).item(), 4))\n",
    "\n",
    "            hr += 1\n",
    "    return hr/n_indices"
   ]
  },
  {
   "cell_type": "code",
   "execution_count": 11,
   "metadata": {},
   "outputs": [],
   "source": [
    "\n",
    "# hp enables a grid search on a wide set of hyperparameters.\n",
    "if not sweep or mode == 'test':\n",
    "    model = PhysicsGNN_LP(dataset, hidden_dim, num_layers, step=step)\n",
    "    # model = GNN_LP(dataset, hidden_dim, num_layers, GNN=SAGEConv)\n",
    "    # model = GNNStack(dataset.x.shape[1], hidden_dim, hidden_dim, num_layers, dropout, emb=True)\n",
    "    predictor = LinkPredictor(\n",
    "        hidden_dim, output_dim, mlp_layer, link_bias, dropout, device=device)\n",
    "    # predictor = LinkPredictor(\n",
    "    #      hidden_dim, hidden_dim, 1, num_layers,\n",
    "    #              dropout)\n",
    "\n",
    "    pl_training_module = TrainingModule(model, predictor, lr, wd)"
   ]
  },
  {
   "attachments": {},
   "cell_type": "markdown",
   "metadata": {},
   "source": [
    "### Hyperparameters Tuning"
   ]
  },
  {
   "cell_type": "code",
   "execution_count": 12,
   "metadata": {},
   "outputs": [],
   "source": [
    "def sweep_train(config=None):\n",
    "    # Initialize a new wandb run\n",
    "    with wandb.init(config=config):\n",
    "        # If called by wandb.agent, as below,\n",
    "        # this config will be set by Sweep Controller\n",
    "        config = wandb.config\n",
    "        model = PhysicsGNN_LP(dataset, config.hidden_dim,\n",
    "                              config.num_layers, step=config.step)\n",
    "        predictor = LinkPredictor(\n",
    "            config.hidden_dim, config.output_dim, config.mlp_layer, config.link_bias, config.dropout, device=device)\n",
    "        # model = GNNStack(dataset.x.shape[1], config.hidden_dim, config.hidden_dim, config.num_layers, config.dropout, emb=True)\n",
    "\n",
    "        # predictor = LinkPredictor(\n",
    "        #     config.hidden_dim, config.hidden_dim, 1, config.num_layers+1,\n",
    "        #             config.dropout)\n",
    "        pl_training_module = TrainingModule(\n",
    "            model, predictor, config.lr, config.wd)\n",
    "        exp_name = \"Sweep_LinkPred\"\n",
    "        wandb_logger = WandbLogger(\n",
    "            project=project_name, name=exp_name, config=hyperparameters)\n",
    "        trainer = trainer = pl.Trainer(\n",
    "            max_epochs=epochs,  # maximum number of epochs.\n",
    "            gpus=num_gpus,  # the number of gpus we have at our disposal.\n",
    "            default_root_dir=\"\", callbacks=[Get_Metrics(), EarlyStopping('Loss on test', mode='min', patience=10), EarlyStopping('HR@100 on test', mode='max', patience=15)],\n",
    "            logger=wandb_logger\n",
    "        )\n",
    "        trainer.fit(model=pl_training_module, datamodule=dataM)\n",
    "\n",
    "\n",
    "if mode == 'hp' and sweep:\n",
    "\n",
    "    import pprint\n",
    "\n",
    "    pprint.pprint(sweep_config)\n",
    "\n",
    "    sweep_id = wandb.sweep(sweep_config, project=project_name)\n",
    "\n",
    "    wandb.agent(sweep_id, sweep_train, count=500)\n",
    "\n",
    "    wandb.finish()"
   ]
  },
  {
   "cell_type": "code",
   "execution_count": 13,
   "metadata": {},
   "outputs": [
    {
     "name": "stderr",
     "output_type": "stream",
     "text": [
      "GPU available: True, used: True\n",
      "TPU available: False, using: 0 TPU cores\n",
      "IPU available: False, using: 0 IPUs\n"
     ]
    }
   ],
   "source": [
    "if wb:\n",
    "    # exp_name = \"Node_class_lr: \" + \\\n",
    "    #     str(hyperparameters['learning rate']) + \\\n",
    "    #     '_wd: ' + str(hyperparameters['weight decay'])\n",
    "    exp_name = ' '\n",
    "    description = ' initial tests'\n",
    "    exp_name += description\n",
    "    wandb_logger = WandbLogger(\n",
    "        project=project_name, name=exp_name, config=hyperparameters)\n",
    "\n",
    "\n",
    "trainer = trainer = pl.Trainer(\n",
    "    max_epochs=epochs,  # maximum number of epochs.\n",
    "    gpus=num_gpus,  # the number of gpus we have at our disposal.\n",
    "    default_root_dir=\"\", callbacks=[Get_Metrics(), EarlyStopping('Loss on test', mode='min', patience=10), EarlyStopping('HR@100 on test', mode='max', patience=40)],\n",
    "    logger=wandb_logger if wb else None\n",
    "\n",
    ")"
   ]
  },
  {
   "cell_type": "code",
   "execution_count": 14,
   "metadata": {},
   "outputs": [
    {
     "name": "stderr",
     "output_type": "stream",
     "text": [
      "/home/peppe/anaconda3/envs/my_env/lib/python3.10/site-packages/pytorch_lightning/core/datamodule.py:469: LightningDeprecationWarning: DataModule.setup has already been called, so it will not be called again. In v1.6 this behavior will change to always call DataModule.setup.\n",
      "  rank_zero_deprecation(\n",
      "LOCAL_RANK: 0 - CUDA_VISIBLE_DEVICES: [0]\n",
      "\n",
      "  | Name      | Type          | Params\n",
      "--------------------------------------------\n",
      "0 | model     | PhysicsGNN_LP | 47.0 K\n",
      "1 | predictor | LinkPredictor | 3.2 K \n",
      "--------------------------------------------\n",
      "50.2 K    Trainable params\n",
      "0         Non-trainable params\n",
      "50.2 K    Total params\n",
      "0.201     Total estimated model params size (MB)\n",
      "/home/peppe/anaconda3/envs/my_env/lib/python3.10/site-packages/pytorch_lightning/callbacks/model_checkpoint.py:631: UserWarning: Checkpoint directory /home/peppe/Desktop/Università/Projects/Thesis/Link_Prediction_with_Physics-based_GNNs-/src/link_prediction/checkpoints exists and is not empty.\n",
      "  rank_zero_warn(f\"Checkpoint directory {dirpath} exists and is not empty.\")\n"
     ]
    },
    {
     "name": "stdout",
     "output_type": "stream",
     "text": [
      "Validation sanity check:   0%|          | 0/1 [00:00<?, ?it/s]"
     ]
    },
    {
     "name": "stderr",
     "output_type": "stream",
     "text": [
      "/home/peppe/anaconda3/envs/my_env/lib/python3.10/site-packages/pytorch_lightning/trainer/data_loading.py:132: UserWarning: The dataloader, val_dataloader 0, does not have many workers which may be a bottleneck. Consider increasing the value of the `num_workers` argument` (try 20 which is the number of cpus on this machine) in the `DataLoader` init to improve performance.\n",
      "  rank_zero_warn(\n"
     ]
    },
    {
     "name": "stdout",
     "output_type": "stream",
     "text": [
      "                                                                      "
     ]
    },
    {
     "name": "stderr",
     "output_type": "stream",
     "text": [
      "/home/peppe/anaconda3/envs/my_env/lib/python3.10/site-packages/pytorch_lightning/trainer/data_loading.py:132: UserWarning: The dataloader, train_dataloader, does not have many workers which may be a bottleneck. Consider increasing the value of the `num_workers` argument` (try 20 which is the number of cpus on this machine) in the `DataLoader` init to improve performance.\n",
      "  rank_zero_warn(\n"
     ]
    },
    {
     "name": "stdout",
     "output_type": "stream",
     "text": [
      "Epoch 111: 100%|██████████| 2/2 [00:00<00:00,  2.64it/s, loss=1.36, Loss on train=1.350, Loss on test=1.390, HR@100 on train=0.117, HR@100 on test=0.209] \n"
     ]
    }
   ],
   "source": [
    "trainer.fit(model=pl_training_module, datamodule=dataM)\n",
    "if wb:\n",
    "    wandb.finish()"
   ]
  },
  {
   "cell_type": "code",
   "execution_count": 15,
   "metadata": {},
   "outputs": [
    {
     "name": "stdout",
     "output_type": "stream",
     "text": [
      "THESE ARE THE PREDICTION FOR THE train: \n",
      "\n",
      "The mean predictions on positives are: \n",
      " tensor(0.5636, grad_fn=<MeanBackward0>)\n",
      "The mean predictions on negatives are: \n",
      " tensor(0.5280, grad_fn=<MeanBackward0>)\n",
      "The HR@100 is: \n",
      " 0.1455965909090909\n",
      "THESE ARE THE PREDICTION FOR THE validation: \n",
      "\n",
      "The mean predictions on positives are: \n",
      " tensor(0.6322, grad_fn=<MeanBackward0>)\n",
      "The mean predictions on negatives are: \n",
      " tensor(0.5916, grad_fn=<MeanBackward0>)\n",
      "The HR@100 is: \n",
      " 0.20872865275142316\n",
      "THESE ARE THE PREDICTION FOR THE test: \n",
      "\n",
      "The mean predictions on positives are: \n",
      " tensor(0.6292, grad_fn=<MeanBackward0>)\n",
      "The mean predictions on negatives are: \n",
      " tensor(0.5946, grad_fn=<MeanBackward0>)\n",
      "The HR@100 is: \n",
      " 0.1954459203036053\n"
     ]
    }
   ],
   "source": [
    "pl_training_module.testing_step(None, None, view=False)"
   ]
  },
  {
   "cell_type": "code",
   "execution_count": null,
   "metadata": {},
   "outputs": [],
   "source": [
    "data = dataM.val_set.to(device)\n",
    "pl_training_module.to(device)\n",
    "out = pl_training_module.model(data)\n",
    "\n",
    "preds = pl_training_module.predictor(\n",
    "    out[data.pos_edge_label_index[0]], out[data.pos_edge_label_index[1]], training=False)\n",
    "neg_shape = preds.shape[0]\n",
    "preds_neg = pl_training_module.predictor(out[data.neg_edge_label_index[0][neg_shape: neg_shape*2 + 1000]],\n",
    "                                         out[data.neg_edge_label_index[1][neg_shape: neg_shape*2 + 1000]], training=False)"
   ]
  },
  {
   "cell_type": "code",
   "execution_count": null,
   "metadata": {},
   "outputs": [],
   "source": [
    "print(torch.mean(preds_neg))\n",
    "pos = torch.tensor([[torch.mean(preds).item()]], device=device)\n",
    "print(pos)"
   ]
  },
  {
   "cell_type": "code",
   "execution_count": null,
   "metadata": {},
   "outputs": [],
   "source": [
    "hr = 0\n",
    "for pos in preds:\n",
    "   \n",
    "    tot = torch.cat((preds_neg, pos.unsqueeze(1)), dim = 0)\n",
    "    top = torch.topk(tot.squeeze(1), 100)\n",
    "  \n",
    "\n",
    "    if preds_neg.shape[0] in top.indices:\n",
    "        hr+=1\n",
    "        print(hr)\n",
    "\n",
    "print(hr/preds.shape[0])"
   ]
  },
  {
   "cell_type": "code",
   "execution_count": null,
   "metadata": {},
   "outputs": [],
   "source": []
  }
 ],
 "metadata": {
  "kernelspec": {
   "display_name": "my_env",
   "language": "python",
   "name": "python3"
  },
  "language_info": {
   "codemirror_mode": {
    "name": "ipython",
    "version": 3
   },
   "file_extension": ".py",
   "mimetype": "text/x-python",
   "name": "python",
   "nbconvert_exporter": "python",
   "pygments_lexer": "ipython3",
   "version": "3.10.6"
  },
  "orig_nbformat": 4
 },
 "nbformat": 4,
 "nbformat_minor": 2
}
