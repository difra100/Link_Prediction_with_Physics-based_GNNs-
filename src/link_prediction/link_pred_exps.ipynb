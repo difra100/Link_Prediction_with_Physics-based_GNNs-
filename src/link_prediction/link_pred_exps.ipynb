{
 "cells": [
  {
   "attachments": {},
   "cell_type": "markdown",
   "metadata": {},
   "source": [
    "# Notebook for the experiments\n",
    "In this notebook are contained the following features:\n",
    "* GRAFF + Link prediction,\n",
    "\n",
    "The main tools that have been exploited are [PyTorch](https://pytorch.org/) (1.13.0), [PyTorch-Lightning](https://www.pytorchlightning.ai/index.html) (1.5.10), [Pytorch-geometric](https://pytorch-geometric.readthedocs.io/en/latest/install/installation.html) (2.3.0) and [Weights & Biases](https://wandb.ai/)"
   ]
  },
  {
   "attachments": {},
   "cell_type": "markdown",
   "metadata": {},
   "source": [
    "### Requirements to run the notebook"
   ]
  },
  {
   "cell_type": "code",
   "execution_count": 1,
   "metadata": {},
   "outputs": [],
   "source": [
    "# !pip install torch==1.12.1+cu113 torchvision==0.13.1+cu113 torchaudio==0.12.1 --extra-index-url https://download.pytorch.org/whl/cu113\n",
    "# !pip install pytorch-lightning==1.5.10\n",
    "# !pip install pyg_lib torch_scatter torch_sparse torch_cluster torch_spline_conv -f https://data.pyg.org/whl/torch-1.12.0+cu113.html\n",
    "# !pip install torch_geometric\n",
    "# !pip install wandb\n",
    "# !pip install ogb"
   ]
  },
  {
   "attachments": {},
   "cell_type": "markdown",
   "metadata": {},
   "source": [
    "## Importing the libraries"
   ]
  },
  {
   "cell_type": "code",
   "execution_count": 2,
   "metadata": {},
   "outputs": [
    {
     "name": "stderr",
     "output_type": "stream",
     "text": [
      "/home/peppe/miniconda3/envs/my_env/lib/python3.9/site-packages/tqdm/auto.py:22: TqdmWarning: IProgress not found. Please update jupyter and ipywidgets. See https://ipywidgets.readthedocs.io/en/stable/user_install.html\n",
      "  from .autonotebook import tqdm as notebook_tqdm\n"
     ]
    },
    {
     "name": "stdout",
     "output_type": "stream",
     "text": [
      "Link prediction features initialized.....\n"
     ]
    }
   ],
   "source": [
    "######## IMPORT EXTERNAL FILES ###########\n",
    "import torch\n",
    "import torch.nn.functional as F\n",
    "import torch.nn.utils.parametrize as parametrize\n",
    "import torch.nn as nn\n",
    "\n",
    "import torch_geometric\n",
    "from torch_geometric.loader import DataLoader\n",
    "from torch_geometric.transforms import RandomLinkSplit\n",
    "from torch_geometric.utils import negative_sampling\n",
    "\n",
    "import pytorch_lightning as pl\n",
    "from pytorch_lightning.callbacks.early_stopping import EarlyStopping\n",
    "from pytorch_lightning.callbacks import Callback\n",
    "from pytorch_lightning.loggers import WandbLogger\n",
    "\n",
    "import wandb\n",
    "######### IMPORT INTERNAL FILES ###########\n",
    "import sys\n",
    "sys.path.append(\"../../src\")\n",
    "from GRAFF import *\n",
    "from config import *"
   ]
  },
  {
   "attachments": {},
   "cell_type": "markdown",
   "metadata": {},
   "source": [
    "### System configuration"
   ]
  },
  {
   "cell_type": "code",
   "execution_count": 3,
   "metadata": {},
   "outputs": [
    {
     "name": "stderr",
     "output_type": "stream",
     "text": [
      "Failed to detect the name of this notebook, you can set it manually with the WANDB_NOTEBOOK_NAME environment variable to enable code saving.\n",
      "\u001b[34m\u001b[1mwandb\u001b[0m: Currently logged in as: \u001b[33mdifra00\u001b[0m (\u001b[33mdeepl_wizards\u001b[0m). Use \u001b[1m`wandb login --relogin`\u001b[0m to force relogin\n"
     ]
    }
   ],
   "source": [
    "device = 'cuda' if torch.cuda.is_available() else 'cpu'\n",
    "num_gpus = 1 if device == 'cuda' else 0\n",
    "\n",
    "if wb:\n",
    "    wandb.login()"
   ]
  },
  {
   "attachments": {},
   "cell_type": "markdown",
   "metadata": {},
   "source": [
    "## PyTorch Lightning DataModule (Link Prediction)"
   ]
  },
  {
   "cell_type": "code",
   "execution_count": 4,
   "metadata": {},
   "outputs": [],
   "source": [
    "class DataModuleLP(pl.LightningDataModule):\n",
    "\n",
    "    def __init__(self,  train_set, val_set, test_set, neg_edges, mode, batch_size):\n",
    "\n",
    "        self.mode = mode  # \"hp\" or \"test\"\n",
    "        self.batch_size = batch_size\n",
    "        self.train_set, self.val_set, self.test_set = train_set, val_set, test_set\n",
    "        self.neg_edges = neg_edges\n",
    "\n",
    "    def setup(self, stage=None):\n",
    "        if stage == 'fit':\n",
    "            if self.mode == 'test':\n",
    "                # For the test phase, after the hp tuning we unify train and val.\n",
    "                self.train_set.edge_index = torch.concat((self.train_set.edge_index, self.val_set.edge_label_index), dim = -1)\n",
    "\n",
    "            train_mask_edg = 0.8 * self.train_set.edge_index.shape[1] \n",
    "\n",
    "            self.train_set.pos_forward_pass = self.train_set.edge_index[:, :int(train_mask_edg)]\n",
    "\n",
    "            # The remaining (30%) is used for the prediction\n",
    "            self.train_set.pos_masked_edges = self.train_set.edge_index[:, int(train_mask_edg):]\n",
    "            # The same amount used as positive in the prediction is taken from the negatives\n",
    "            self.train_set.neg_edges = self.neg_edges[:, :self.train_set.pos_masked_edges.shape[1]]\n",
    "\n",
    "\n",
    "        elif stage == 'test':\n",
    "            # During the inference we attempt to predict the whole set as true.\n",
    "            if self.mode == 'hp':\n",
    "                self.val_set.neg_edges = self.neg_edges[:, self.train_set.pos_masked_edges.shape[1]: self.train_set.pos_masked_edges.shape[1] + \n",
    "                                                                    self.val_set.edge_label_index.shape[1]]\n",
    "            elif self.mode == 'test':\n",
    "                self.test_set.neg_edges = self.neg_edges[:, self.train_set.pos_masked_edges.shape[1]:self.train_set.pos_masked_edges.shape[1]+\n",
    "                                                            self.test_set.edge_label_index.shape[1]]\n",
    "\n",
    "    def train_dataloader(self, *args, **kwargs):\n",
    "        return DataLoader([self.train_set], batch_size = batch_size, shuffle = False)\n",
    "    def val_dataloader(self, *args, **kwargs):\n",
    "        if self.mode == 'hp':\n",
    "            return DataLoader([self.val_set], batch_size = batch_size, shuffle = False)\n",
    "        elif self.mode == 'test':\n",
    "            return DataLoader([self.test_set], batch_size = batch_size, shuffle = False)\n"
   ]
  },
  {
   "cell_type": "code",
   "execution_count": 5,
   "metadata": {},
   "outputs": [],
   "source": [
    "train_data = torch.load(dataset_name + \"/train_data.pt\")\n",
    "val_data = torch.load(dataset_name + \"/val_data.pt\")\n",
    "test_data = torch.load(dataset_name + \"/test_data.pt\")\n",
    "negative_edges = torch.load(dataset_name + \"/negatives.pt\")"
   ]
  },
  {
   "cell_type": "code",
   "execution_count": 6,
   "metadata": {},
   "outputs": [],
   "source": [
    "mode = 'test'  # hp: Hyperparameter selection mode\n",
    "dataM = DataModuleLP(train_data.clone(), val_data.clone(), test_data.clone(), negative_edges, mode = mode, batch_size = batch_size)\n",
    "dataM.setup(stage='fit')\n",
    "dataM.setup(stage='test') "
   ]
  },
  {
   "attachments": {},
   "cell_type": "markdown",
   "metadata": {},
   "source": [
    "### PyTorch Lightning Callbacks"
   ]
  },
  {
   "cell_type": "code",
   "execution_count": 7,
   "metadata": {},
   "outputs": [],
   "source": [
    "\n",
    "class Get_Metrics(Callback):\n",
    "\n",
    "    def on_train_epoch_end(self, trainer: \"pl.Trainer\", pl_module: \"pl.LightningModule\"):\n",
    "\n",
    "        # Compute the metrics\n",
    "        train_loss = sum(\n",
    "            pl_module.train_prop['loss']) / len(pl_module.train_prop['loss'])\n",
    "        train_acc = sum(\n",
    "            pl_module.train_prop['HR@100']) / len(pl_module.train_prop['HR@100'])\n",
    "        test_loss = sum(\n",
    "            pl_module.test_prop['loss']) / len(pl_module.test_prop['loss'])\n",
    "        test_acc = sum(pl_module.test_prop['HR@100']) / \\\n",
    "            len(pl_module.test_prop['HR@100'])\n",
    "\n",
    "        # Log the metrics\n",
    "        pl_module.log(name='Loss on train', value=train_loss,\n",
    "                      on_epoch=True, prog_bar=True, logger=True)\n",
    "        pl_module.log(name='HR@100 on train', value=train_acc,\n",
    "                      on_epoch=True, prog_bar=True, logger=True)\n",
    "        pl_module.log(name='Loss on test', value=test_loss,\n",
    "                      on_epoch=True, prog_bar=True, logger=True)\n",
    "        pl_module.log(name='HR@100 on test', value=test_acc,\n",
    "                      on_epoch=True, prog_bar=True, logger=True)\n",
    "\n",
    "        # Re-initialize the metrics\n",
    "        pl_module.train_prop['loss'] = []\n",
    "        pl_module.train_prop['HR@100'] = []\n",
    "        pl_module.test_prop['loss'] = []\n",
    "        pl_module.test_prop['HR@100'] = []"
   ]
  },
  {
   "attachments": {},
   "cell_type": "markdown",
   "metadata": {},
   "source": [
    "## PyTorch Lightning Training Module (Node Classification)"
   ]
  },
  {
   "cell_type": "code",
   "execution_count": 8,
   "metadata": {},
   "outputs": [],
   "source": [
    "class TrainingModule(pl.LightningModule):\n",
    "\n",
    "    def __init__(self, model, lr, wd):\n",
    "        super().__init__()\n",
    "        self.model = model.to(device)\n",
    "        self.lr = lr\n",
    "        self.wd = wd\n",
    "\n",
    "        self.train_prop = {'loss': [], 'HR@100': []}\n",
    "        self.test_prop = {'loss': [], 'HR@100': []}\n",
    "       \n",
    "\n",
    "    def training_step(self, batch, batch_idx):\n",
    "       \n",
    "        pos_pred, neg_pred, negatives = self.model(batch, train = True)\n",
    "\n",
    "        # print(\"negatives: \", negatives.shape)\n",
    "        # print(\"pos_pred: \", pos_pred.shape)\n",
    "\n",
    "        acc = evaluate(pos_pred, negatives)\n",
    "\n",
    "        loss = -torch.log(pos_pred + 1e-15).mean() - torch.log(1 - neg_pred + 1e-15).mean()\n",
    "        self.train_prop['loss'].append(loss)\n",
    "        self.train_prop['HR@100'].append(acc)\n",
    "\n",
    "        return loss\n",
    "\n",
    "    def validation_step(self, batch, batch_idx):\n",
    "\n",
    "        pos_pred, neg_pred, negatives = self.model(batch, train = False)\n",
    "\n",
    "        \n",
    "        acc = evaluate(pos_pred, negatives)\n",
    "\n",
    "\n",
    "        loss = -torch.log(pos_pred + 1e-15).mean() - torch.log(1 - neg_pred + 1e-15).mean()\n",
    "        self.test_prop['loss'].append(loss)\n",
    "        self.test_prop['HR@100'].append(acc)\n",
    "\n",
    "        return loss\n",
    "\n",
    "    def configure_optimizers(self):\n",
    "        self.optimizer = torch.optim.Adam(\n",
    "            self.model.parameters(), lr=self.lr, weight_decay=self.wd)\n",
    "        return self.optimizer\n",
    "\n",
    "\n",
    "def evaluate(pos_pred, negatives):\n",
    "\n",
    "  \n",
    "    indices = list(range(pos_pred.shape[0]))\n",
    "    # print(\"indices: \", indices)\n",
    "\n",
    "    scoring_tensor = torch.cat((pos_pred, negatives), dim = 0)\n",
    "    # print(\"score_tensor: \", scoring_tensor.shape)\n",
    "    top_indices = torch.topk(scoring_tensor.squeeze(1), 100).indices\n",
    "    # print(\"top_indices: \", top_indices)\n",
    "    # print(\"type top_indices: \", type(top_indices))\n",
    "\n",
    "\n",
    "    hr = 0\n",
    "\n",
    "    for i in range(len(indices)):\n",
    "        if i in top_indices:\n",
    "            # print(\"{} is in {}\".format(i, top_indices))\n",
    "            hr+=1\n",
    "\n",
    "    hr /= len(indices)\n",
    "    \n",
    "\n",
    "\n",
    "    return hr"
   ]
  },
  {
   "cell_type": "code",
   "execution_count": 9,
   "metadata": {},
   "outputs": [],
   "source": [
    "\n",
    "#### hp enables a grid search on a wide set of hyperparameters.\n",
    "if mode != 'hp':\n",
    "   model = PhysicsGNN_LP(dataset, hidden_dim, output_dim, num_layers, mlp_layer, link_bias, dropout)\n",
    "   pl_training_module = TrainingModule(model, lr, wd)\n",
    " \n"
   ]
  },
  {
   "attachments": {},
   "cell_type": "markdown",
   "metadata": {},
   "source": [
    "### Hyperparameters Tuning"
   ]
  },
  {
   "cell_type": "code",
   "execution_count": 10,
   "metadata": {},
   "outputs": [],
   "source": [
    "def sweep_train(config=None):\n",
    "    # Initialize a new wandb run\n",
    "    with wandb.init(config=config):\n",
    "        # If called by wandb.agent, as below,\n",
    "        # this config will be set by Sweep Controller\n",
    "        config = wandb.config\n",
    "        model = PhysicsGNN_LP(dataset, config.hidden_dim, config.output_dim,\n",
    "                              config.num_layers, config.mlp_layer, config.link_bias, config.dropout,\n",
    "                              step=config.step)\n",
    "        pl_training_module = TrainingModule(\n",
    "            model, config.lr, config.wd)\n",
    "        exp_name = \"Sweep_LinkPred\"\n",
    "        wandb_logger = WandbLogger(\n",
    "            project=project_name, name=exp_name, config=hyperparameters)\n",
    "        trainer = trainer = pl.Trainer(\n",
    "            max_epochs=epochs,  # maximum number of epochs.\n",
    "            gpus=num_gpus,  # the number of gpus we have at our disposal.\n",
    "            default_root_dir=\"\", callbacks=[Get_Metrics(), EarlyStopping('Loss on test', mode='min', patience=15)],\n",
    "            logger=wandb_logger\n",
    "        )\n",
    "        trainer.fit(model=pl_training_module, datamodule=dataM)\n",
    "\n",
    "\n",
    "if mode == 'hp':\n",
    "\n",
    "    if wb == False:\n",
    "        if wb == False:\n",
    "            model = PhysicsGNN_LP(dataset, hidden_dim, output_dim, num_layers, mlp_layer, link_bias, dropout)\n",
    "            pl_training_module = TrainingModule(model, lr, wd)\n",
    "    else:\n",
    "\n",
    "    \n",
    "        import pprint\n",
    "\n",
    "        pprint.pprint(sweep_config)\n",
    "\n",
    "        sweep_id = wandb.sweep(sweep_config, project=project_name)\n",
    "\n",
    "        wandb.agent(sweep_id, sweep_train, count=500)\n",
    "\n",
    "        wandb.finish()"
   ]
  },
  {
   "cell_type": "code",
   "execution_count": 11,
   "metadata": {},
   "outputs": [
    {
     "name": "stderr",
     "output_type": "stream",
     "text": [
      "GPU available: False, used: False\n",
      "TPU available: False, using: 0 TPU cores\n",
      "IPU available: False, using: 0 IPUs\n"
     ]
    }
   ],
   "source": [
    "\n",
    "\n",
    "if wb:\n",
    "    exp_name = \"Node_class_lr: \" + \\\n",
    "        str(hyperparameters['learning rate']) + \\\n",
    "        '_wd: ' + str(hyperparameters['weight decay'])\n",
    "    description = ' initial tests'\n",
    "    exp_name += description\n",
    "    wandb_logger = WandbLogger(\n",
    "        project=project_name, name=exp_name, config=hyperparameters)\n",
    "\n",
    "\n",
    "trainer = trainer = pl.Trainer(\n",
    "    max_epochs=epochs,  # maximum number of epochs.\n",
    "    gpus=num_gpus,  # the number of gpus we have at our disposal.\n",
    "    default_root_dir=\"\", callbacks=[Get_Metrics(), EarlyStopping('Loss on test', mode='min', patience=15)],\n",
    "    logger=wandb_logger if wb else None\n",
    "\n",
    ")"
   ]
  },
  {
   "cell_type": "code",
   "execution_count": null,
   "metadata": {},
   "outputs": [],
   "source": [
    "trainer.fit(model = pl_training_module, datamodule = dataM)\n",
    "if wb:\n",
    "    wandb.finish()"
   ]
  }
 ],
 "metadata": {
  "kernelspec": {
   "display_name": "my_env",
   "language": "python",
   "name": "python3"
  },
  "language_info": {
   "codemirror_mode": {
    "name": "ipython",
    "version": 3
   },
   "file_extension": ".py",
   "mimetype": "text/x-python",
   "name": "python",
   "nbconvert_exporter": "python",
   "pygments_lexer": "ipython3",
   "version": "3.9.15"
  },
  "orig_nbformat": 4
 },
 "nbformat": 4,
 "nbformat_minor": 2
}
